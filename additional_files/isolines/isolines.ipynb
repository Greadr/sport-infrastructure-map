{
 "cells": [
  {
   "cell_type": "code",
   "execution_count": 8,
   "metadata": {},
   "outputs": [],
   "source": [
    "import geopandas as gpd\n",
    "import pandas as pd\n",
    "import matplotlib.pyplot as plt\n",
    "import networkx as nx\n",
    "import osmnx as ox\n",
    "from shapely.geometry import LineString\n",
    "from shapely.geometry import Point\n",
    "from shapely.geometry import Polygon\n",
    "from shapely.ops import cascaded_union\n",
    "import numpy as np\n",
    "import os.path\n",
    "ox.config(log_console=True, use_cache=True)\n",
    "from IPython.display import clear_output"
   ]
  },
  {
   "cell_type": "code",
   "execution_count": 9,
   "metadata": {},
   "outputs": [],
   "source": [
    "def make_iso_polys(G, center_nodes, edge_buff=50, node_buff=70, infill=False):\n",
    "    isochrone_polys_district = gpd.GeoDataFrame()\n",
    "    for n, center_node in center_nodes.iterrows():\n",
    "        isochrone_polys = {}\n",
    "        subgraph = nx.ego_graph(G, center_node['node'], undirected=True, radius=center_node['buffer'], distance=\"length\")\n",
    "\n",
    "        node_points = [Point((data[\"x\"], data[\"y\"])) for node, data in subgraph.nodes(data=True)]\n",
    "        nodes_gdf = gpd.GeoDataFrame({\"id\": list(subgraph.nodes)}, geometry=node_points)\n",
    "        nodes_gdf = nodes_gdf.set_index(\"id\")\n",
    "\n",
    "        edge_lines = []\n",
    "        for n_fr, n_to in subgraph.edges():\n",
    "            f = nodes_gdf.loc[n_fr].geometry\n",
    "            t = nodes_gdf.loc[n_to].geometry\n",
    "            edge_lookup = G.get_edge_data(n_fr, n_to)[0].get(\"geometry\", LineString([f, t]))\n",
    "            edge_lines.append(edge_lookup)\n",
    "\n",
    "        n = nodes_gdf.buffer(node_buff).geometry\n",
    "        e = gpd.GeoSeries(edge_lines).buffer(edge_buff).geometry\n",
    "        all_gs = list(n) + list(e)\n",
    "        new_iso = gpd.GeoSeries(all_gs).unary_union\n",
    "\n",
    "        # try to fill in surrounded areas so shapes will appear solid and\n",
    "        # blocks without white space inside them\n",
    "        if infill:\n",
    "            new_iso = Polygon(new_iso.exterior)\n",
    "        isochrone_polys['id']=center_node['id']\n",
    "        isochrone_polys['geom']=(new_iso)\n",
    "        isochrone_polys['buffer']=center_node['buffer']\n",
    "        isochrone_polys_district = isochrone_polys_district.append(isochrone_polys, ignore_index=True)\n",
    "        print('\\rВыполнено объектов в районе', len(isochrone_polys_district),'/',len(center_nodes), end='')\n",
    "    return isochrone_polys_district"
   ]
  },
  {
   "cell_type": "code",
   "execution_count": 10,
   "metadata": {},
   "outputs": [],
   "source": [
    "if os.path.isfile('isochrone_polys_districts.gpkg'):\n",
    "    isochrone_polys_districts = gpd.read_file('isochrone_polys_districts.gpkg')   \n",
    "    done_districts = isochrone_polys_districts.district.drop_duplicates().values\n",
    "else:\n",
    "    isochrone_polys_districts = gpd.GeoDataFrame()"
   ]
  },
  {
   "cell_type": "code",
   "execution_count": 11,
   "metadata": {},
   "outputs": [
    {
     "data": {
      "text/plain": [
       "array(['поселение Филимонковское', 'район Внуково',\n",
       "       'поселение Внуковское', 'район Новокосино', 'район Замоскворечье',\n",
       "       'район Митино', 'поселение Сосенское', 'район Силино',\n",
       "       'район Соколиная Гора', 'район Бирюлёво Западное',\n",
       "       'район Братеево', 'район Ростокино', 'район Ховрино',\n",
       "       'район Ивановское', 'район Хамовники', 'Нижегородский район',\n",
       "       'поселение \"Мосрентген\"', 'район Выхино-Жулебино',\n",
       "       'Гагаринский район', 'район Коптево', 'район Восточный',\n",
       "       'Алтуфьевский район', 'район Тёплый Стан',\n",
       "       'район Очаково-Матвеевское', 'поселение Новофедоровское',\n",
       "       'поселение Щаповское', 'район Ново-Переделкино',\n",
       "       'Тимирязевский район', 'район Чертаново Центральное',\n",
       "       'поселение Марушкинское', 'район Ясенево', 'поселение Рязановское',\n",
       "       'район Хорошёво-Мнёвники', 'поселение Вороновское',\n",
       "       'район Дорогомилово', 'Южнопортовый район',\n",
       "       'Бескудниковский район', 'Дмитровский район', 'район Царицыно',\n",
       "       'Войковский район', 'район Восточное Измайлово', 'район Люблино',\n",
       "       'поселение Щербинка', 'район Нагатино-Садовники',\n",
       "       'район Измайлово', 'район Щукино', 'район Левобережный',\n",
       "       'район Филёвский Парк', 'Бабушкинский район', 'район Сокольники',\n",
       "       'район Преображенское', 'район Черёмушки', 'Мещанский район',\n",
       "       'район Текстильщики', 'район Раменки', 'район Тропарёво-Никулино',\n",
       "       'Лосиноостровский район', 'район Северный', 'район Свиблово',\n",
       "       'район Орехово-Борисово Северное', 'район Вешняки',\n",
       "       'район Якиманка', 'район Новогиреево', 'район Чертаново Северное',\n",
       "       'район Строгино', 'Обручевский район', 'Таганский район',\n",
       "       'район Бибирево', 'район Восточное Дегунино',\n",
       "       'поселение Михайлово-Ярцевское', 'район Москворечье-Сабурово',\n",
       "       'район Западное Дегунино', 'район Отрадное', 'район Котловка',\n",
       "       'район Северное Измайлово', 'район Коньково', 'район Лефортово',\n",
       "       'поселение Воскресенское', 'район Савёлки', 'район Марьино',\n",
       "       'район Фили-Давыдково', 'поселение Кокошкино', 'Ярославский район',\n",
       "       'район Аэропорт', 'район Гольяново', 'район Беговой',\n",
       "       'район Сокол', 'район Северное Медведково',\n",
       "       'поселение Первомайское', 'район Матушкино', 'Бутырский район',\n",
       "       'Рязанский район', 'район Орехово-Борисово Южное',\n",
       "       'поселение Киевский', 'район Зябликово', 'поселение Роговское',\n",
       "       'район Южное Тушино', 'Пресненский район', 'район Крылатское',\n",
       "       'район Лианозово', 'район Покровское-Стрешнево',\n",
       "       'Академический район', 'Хорошёвский район', 'район Перово',\n",
       "       'Можайский район', 'поселение Краснопахорское', 'район Солнцево',\n",
       "       'район Нагатинский Затон', 'Тверской район',\n",
       "       'Молжаниновский район', 'район Некрасовка', 'поселение Троицк',\n",
       "       'Басманный район', 'Донской район', 'район Кунцево',\n",
       "       'район Куркино', 'район Печатники', 'район Косино-Ухтомский',\n",
       "       'район Проспект Вернадского', 'район Марфино',\n",
       "       'Останкинский район', 'район Марьина Роща', 'район Крюково',\n",
       "       'Савёловский район', 'Красносельский район', 'Ломоносовский район',\n",
       "       'район Южное Медведково', 'район Чертаново Южное',\n",
       "       'поселение Московский', 'район Богородское', 'район Южное Бутово',\n",
       "       'район Кузьминки', 'район Арбат', 'Головинский район',\n",
       "       'район Зюзино', 'Нагорный район', 'район Капотня',\n",
       "       'район Метрогородок', 'район Бирюлёво Восточное',\n",
       "       'Даниловский район', 'поселение Кленовское',\n",
       "       'район Северное Бутово', 'Алексеевский район',\n",
       "       'поселение Десеновское', 'район Старое Крюково',\n",
       "       'район Северное Тушино'], dtype=object)"
      ]
     },
     "execution_count": 11,
     "metadata": {},
     "output_type": "execute_result"
    }
   ],
   "source": [
    "done_districts"
   ]
  },
  {
   "cell_type": "code",
   "execution_count": 14,
   "metadata": {},
   "outputs": [],
   "source": [
    "objects_raw = gpd.read_file('sport_objects.gpkg')\n",
    "\n",
    "districts = gpd.read_file('districts.gpkg')\n",
    "districts = districts[~districts.name.isin(done_districts)]\n",
    "# districts = districts[districts['name']=='поселение Внуковское']\n",
    "districts_buffers = districts.copy()\n"
   ]
  },
  {
   "cell_type": "code",
   "execution_count": null,
   "metadata": {},
   "outputs": [],
   "source": []
  },
  {
   "cell_type": "code",
   "execution_count": 7,
   "metadata": {},
   "outputs": [
    {
     "name": "stdout",
     "output_type": "stream",
     "text": [
      "Выполнено районов 143 / 90\n",
      "Выполнено всего объектов до этого района 10435 / 10521\n",
      "Выполнено объектов в районе 80 / 80"
     ]
    }
   ],
   "source": [
    "for dn in districts_buffers.name:\n",
    "    objects = objects_raw.overlay(districts[districts['name']==dn][['name','geometry']], how='intersection')\n",
    "    polygon_buf = districts_buffers[districts_buffers['name']==dn].to_crs('epsg:32637').buffer(max(objects['buffer'])).to_crs('epsg:4326').geometry.values[0]\n",
    "\n",
    "    \n",
    "    # download the street network\n",
    "    G = ox.graph_from_polygon(polygon_buf, simplify=False, custom_filter=(\n",
    "        '[\"highway\"][\"highway\"!~\"abandoned|construction|planned|platform|proposed|raceway\"][\"service\"!~\"private\"]'\n",
    "    ),)\n",
    "\n",
    "    nodes = ox.distance.nearest_nodes(G, list(objects['geometry'].x), list(objects['geometry'].y))\n",
    "    center_nodes = pd.concat([objects['id'], pd.Series(nodes, name='node'), objects['buffer']], axis=1)\n",
    "    G = ox.project_graph(G)\n",
    "    clear_output(wait=True)\n",
    "    print('Выполнено районов',districts[districts['name']==dn].index[0],'/', len(districts))\n",
    "    len_all_objs = len(isochrone_polys_districts)\n",
    "    print('Выполнено всего объектов до этого района',len_all_objs,'/', len(objects_raw))\n",
    "\n",
    "    isochrone_polys_district = make_iso_polys(G, center_nodes, edge_buff=50, node_buff=0, infill=True)\n",
    "    \n",
    "    isochrone_polys_district['district'] = dn\n",
    "\n",
    "    isochrone_polys_district.rename(columns={\"geom\": \"geometry\"}, inplace=True)\n",
    "    isochrone_polys_district.set_geometry('geometry', inplace=True)\n",
    "\n",
    "    utm_zone = int(np.floor((37.61556 + 180) / 6) + 1)\n",
    "    utm_crs = f\"+proj=utm +zone={utm_zone} +ellps=WGS84 +datum=WGS84 +units=m +no_defs\"\n",
    "    isochrone_polys_district.set_crs(utm_crs, inplace=True)\n",
    "    isochrone_polys_district.to_crs(epsg=4326, inplace=True)\n",
    "    isochrone_polys_district.geometry = isochrone_polys_district.geometry.apply(lambda x:Polygon(x.exterior))\n",
    "    isochrone_polys_district.geometry = isochrone_polys_district.simplify(0.0001)\n",
    "    isochrone_polys_districts = isochrone_polys_districts.append(isochrone_polys_district, ignore_index=True)\n",
    "\n",
    "    isochrone_polys_districts.to_file('isochrone_polys_districts.gpkg', driver='GPKG')\n",
    "\n"
   ]
  }
 ],
 "metadata": {
  "interpreter": {
   "hash": "ac8495eddf0c69449ced56b3fd6ebea73c541f85544ef8d47ab963623c0ed9fb"
  },
  "kernelspec": {
   "display_name": "Python 3.8.5 64-bit ('base': conda)",
   "name": "python3"
  },
  "language_info": {
   "codemirror_mode": {
    "name": "ipython",
    "version": 3
   },
   "file_extension": ".py",
   "mimetype": "text/x-python",
   "name": "python",
   "nbconvert_exporter": "python",
   "pygments_lexer": "ipython3",
   "version": "3.8.5"
  }
 },
 "nbformat": 4,
 "nbformat_minor": 4
}
